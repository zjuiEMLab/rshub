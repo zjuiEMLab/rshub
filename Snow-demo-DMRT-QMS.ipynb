{
 "cells": [
  {
   "cell_type": "markdown",
   "metadata": {
    "colab_type": "text",
    "id": "view-in-github"
   },
   "source": [
    "<a href=\"https://colab.research.google.com/github/zjuiEMLab/rshub/blob/main/demo/Snow-demo-DMRT-QMS.ipynb\" target=\"_parent\"><img src=\"https://colab.research.google.com/assets/colab-badge.svg\" alt=\"Open In Colab\"/></a>"
   ]
  },
  {
   "cell_type": "markdown",
   "metadata": {},
   "source": [
    "# Brightness temperature and backscatter of a three-layer snow scenario (DMRT-QMS)"
   ]
  },
  {
   "cell_type": "code",
   "execution_count": 1,
   "metadata": {
    "scrolled": true
   },
   "outputs": [],
   "source": [
    "import datetime\n",
    "import numpy as np\n",
    "!pip install rshub -q"
   ]
  },
  {
   "cell_type": "code",
   "execution_count": 2,
   "metadata": {},
   "outputs": [],
   "source": [
    "# Define user token\n",
    "token = 'ENTER YOUR TOKEN here' # Register your account to get a token\n",
    "# Change your task name or project name every time you run a new job\n",
    "project_name = 'Snow Demo1'\n",
    "task_name1 = 'DMRT-QMS Active'\n",
    "task_name2 = 'DMRT-QMS Passive'"
   ]
  },
  {
   "cell_type": "code",
   "execution_count": 3,
   "metadata": {},
   "outputs": [],
   "source": [
    "# ============== CHANGE YOUR INPUT PARAMETERS HERE ==============\n",
    "# ====== Parameters not define will be set to default values ======\n",
    "# Step 1: Define Scenario flag\n",
    "# 1: Bare soil\n",
    "# 2: Snow\n",
    "# 3: Vegetation covered soil\n",
    "scenario_flag = 2\n",
    "\n",
    "# Step 2: Define observation description\n",
    "# 1) Observation mode\n",
    "# 1: Active (Backscatter)\n",
    "# 2: Passive (Brightness temperature)\n",
    "output_var1 = 1\n",
    "output_var2 = 2\n",
    "\n",
    "# 2) Observation characteristics\n",
    "fGHz = [17.2]\n",
    "\n",
    "#angle=[30, 40, 50] # Incident Angle\n",
    "angle = np.arange(0,70,5)\n",
    "angle = angle.tolist()\n",
    "\n",
    "\n",
    "# Step 3: Define Algorithm flag\n",
    "# 1: DMRT-QMS; 2: DMRT-BIC\n",
    "algorithm = 1\n",
    "\n",
    "# Step 4: Describe your scenario (Demo shows 3-layer snow)\n",
    "depth=[30,20,7,18] # [cm]\n",
    "rho=[0.111,0.224,0.189,0.216] # [gmcc]\n",
    "dia=[0.5/10,1.0/10,2.0/10,3.0/10] # Grain size diameter [cm]\n",
    "tau=[0.12,0.15,0.25,0.35] # stickness #\n",
    "Tsnow=[260,260,260,260] # Snow temperature [K]\n",
    "\n",
    "Tg=270 # Ground Temperature [K]\n",
    "mv=0.15 # soil moisture\n",
    "clayfrac=0.3 #clay fraction\n",
    "\n",
    "# Passive parameters to calculate surface backscattering\n",
    "rough_model = 1 # option 1: Q/H model\n",
    "rough_Q = 0.5  # polarization mixing factor, unitless          \n",
    "rough_H = 0.5 # roughness height factor, unitless # Q = H = 0, means flat bottom surface     \n",
    "\n",
    "surf_model_setting_passive=[rough_model,rough_Q,rough_H] #'QH'\n",
    "\n",
    "# Active parameters to calculate surface backscattering\n",
    "rough_model = 1    # option 1: 'OH', option 2: 'SPM3D'; option 3: 'NMM3D'(not suggested, has limited ranges); \n",
    "rough_rms = 0.25 # rough ground rms height, (cm) rms == 0 assumes flat bottom boundary\n",
    "rough_ratio = 7  # correlation length / rms height\n",
    "\n",
    "surf_model_setting_active=[rough_model,rough_rms,rough_ratio] #'OH'"
   ]
  },
  {
   "cell_type": "code",
   "execution_count": 4,
   "metadata": {},
   "outputs": [],
   "source": [
    "# Input data for Active DMRT-QMS model\n",
    "data1 = {\n",
    "    'scenario_flag': scenario_flag, \n",
    "    'output_var': output_var1,'fGHz': fGHz,\n",
    "    'angle':angle,\n",
    "    'algorithm':algorithm,\n",
    "    'depth': depth,'rho':rho,'dia':dia,'tau':tau,'Tsnow':Tsnow,'Tg':Tg,\n",
    "    'mv':mv,'clayfrac':clayfrac,'surf_model_setting':surf_model_setting_active,\n",
    "    'project_name':project_name,\n",
    "    'task_name':task_name1,\n",
    "    'token':token,\n",
    "    'level_required':1,\n",
    "    'force_update_flag':1\n",
    "}\n",
    "\n",
    "# Input data for Passive DMRT-QMS model\n",
    "data2 = {\n",
    "    'scenario_flag': scenario_flag, \n",
    "    'output_var': output_var2,'fGHz': fGHz,\n",
    "    'angle':angle,\n",
    "    'algorithm':algorithm,\n",
    "    'depth': depth,'rho':rho,'dia':dia,'tau':tau,'Tsnow':Tsnow,'Tg':Tg,\n",
    "    'mv':mv,'clayfrac':clayfrac,'surf_model_setting':surf_model_setting_passive,\n",
    "    'project_name':project_name,\n",
    "    'task_name':task_name2,\n",
    "    'token':token,\n",
    "    'level_required':1,\n",
    "    'force_update_flag':1\n",
    "}"
   ]
  },
  {
   "cell_type": "markdown",
   "metadata": {},
   "source": [
    "## Run models"
   ]
  },
  {
   "cell_type": "code",
   "execution_count": 5,
   "metadata": {},
   "outputs": [
    {
     "name": "stdout",
     "output_type": "stream",
     "text": [
      "{\"scenario_flag\": 2, \"output_var\": 1, \"fGHz\": [17.2], \"angle\": [0, 5, 10, 15, 20, 25, 30, 35, 40, 45, 50, 55, 60, 65], \"algorithm\": 1, \"depth\": [30, 20, 7, 18], \"rho\": [0.111, 0.224, 0.189, 0.216], \"dia\": [0.05, 0.1, 0.2, 0.3], \"tau\": [0.12, 0.15, 0.25, 0.35], \"Tsnow\": [260, 260, 260, 260], \"Tg\": 270, \"mv\": 0.15, \"clayfrac\": 0.3, \"surf_model_setting\": [1, 0.25, 7], \"project_name\": \"Snow Demo1\", \"task_name\": \"DMRT-QMS Active\", \"level_required\": 1, \"force_update_flag\": 1}\n",
      "{\"scenario_flag\": 2, \"output_var\": 2, \"fGHz\": [17.2], \"angle\": [0, 5, 10, 15, 20, 25, 30, 35, 40, 45, 50, 55, 60, 65], \"algorithm\": 1, \"depth\": [30, 20, 7, 18], \"rho\": [0.111, 0.224, 0.189, 0.216], \"dia\": [0.05, 0.1, 0.2, 0.3], \"tau\": [0.12, 0.15, 0.25, 0.35], \"Tsnow\": [260, 260, 260, 260], \"Tg\": 270, \"mv\": 0.15, \"clayfrac\": 0.3, \"surf_model_setting\": [1, 0.5, 0.5], \"project_name\": \"Snow Demo1\", \"task_name\": \"DMRT-QMS Passive\", \"level_required\": 1, \"force_update_flag\": 1}\n"
     ]
    }
   ],
   "source": [
    "from rshub import submit_jobs\n",
    "result1=submit_jobs.run(data1)\n",
    "result2=submit_jobs.run(data2)"
   ]
  },
  {
   "cell_type": "code",
   "execution_count": 6,
   "metadata": {},
   "outputs": [
    {
     "name": "stdout",
     "output_type": "stream",
     "text": [
      "Job submitted!\n"
     ]
    }
   ],
   "source": [
    "print(result1['result'])"
   ]
  },
  {
   "cell_type": "code",
   "execution_count": 7,
   "metadata": {},
   "outputs": [],
   "source": [
    "# Store log information\n",
    "now = datetime.datetime.now()\n",
    "logname = 'log_' + now.strftime(\"%Y%m%d%H%M%D\") + '.txt'\n",
    "f = open('log.txt',\"a\")\n",
    "head_string = '======' + now.strftime(\"%Y%m%d%H%M%D\") + '======' + \"\\n\"\n",
    "f.write(head_string)\n",
    "f.write(f' project_name = {project_name} \\n')\n",
    "f.write(f' task_name = {task_name1} \\n')\n",
    "f.write(f' data = {data1} \\n')\n",
    "f.write(f' task_name = {task_name2} \\n')\n",
    "f.write(f' data = {data2} \\n')\n",
    "f.write('================================ \\n')\n",
    "f.close()"
   ]
  },
  {
   "cell_type": "markdown",
   "metadata": {},
   "source": [
    "# Check status of code (It may take a long time, especially for active model!)"
   ]
  },
  {
   "cell_type": "code",
   "execution_count": 11,
   "metadata": {},
   "outputs": [
    {
     "name": "stdout",
     "output_type": "stream",
     "text": [
      "Jobs are completed\n"
     ]
    }
   ],
   "source": [
    "from rshub import submit_jobs\n",
    "result=submit_jobs.check_completion(token, project_name, task_name1)\n",
    "print(result)"
   ]
  },
  {
   "cell_type": "markdown",
   "metadata": {},
   "source": [
    "# Check if there are any error messages"
   ]
  },
  {
   "cell_type": "code",
   "execution_count": 12,
   "metadata": {},
   "outputs": [
    {
     "name": "stdout",
     "output_type": "stream",
     "text": [
      "message: Jobs completed succesfully\n",
      "\n"
     ]
    }
   ],
   "source": [
    "from rshub.load_file import load_file\n",
    "data = load_file(token, project_name, task_name1,fGHz[0])\n",
    "message = data.load_error_message()"
   ]
  },
  {
   "cell_type": "markdown",
   "metadata": {},
   "source": [
    "# Post Process"
   ]
  },
  {
   "cell_type": "code",
   "execution_count": 13,
   "metadata": {},
   "outputs": [],
   "source": [
    "from rshub.load_file import load_file"
   ]
  },
  {
   "cell_type": "code",
   "execution_count": 15,
   "metadata": {
    "scrolled": false
   },
   "outputs": [],
   "source": [
    "# load mat file with project id, frequencies,variables to load\n",
    "\n",
    "TB_v=[]\n",
    "TB_h=[]\n",
    "for i,inc_ang in enumerate(angle):\n",
    "    data2 = load_file(token, project_name, task_name2,fGHz[0], scenario_flag, output_var2, inc_ang)\n",
    "    data_active = data2.load_outputs()\n",
    "    # Read variables into python\n",
    "\n",
    "    TB_v.append(data_active['Tb_v0'][:,0]) # vertical Tbs\n",
    "    TB_h.append(data_active['Tb_h0'][:,0]) # horizontal Tbs\n",
    "theta_obs = angle # incident angle"
   ]
  },
  {
   "cell_type": "code",
   "execution_count": 16,
   "metadata": {},
   "outputs": [],
   "source": [
    "# load mat file with project id, frequencies,variables to load\n",
    "backscatter_vv=[]\n",
    "backscatter_vh=[]\n",
    "for i,inc_ang in enumerate(angle):\n",
    "    data1 = load_file(token, project_name, task_name1,fGHz[0],scenario_flag,output_var1,inc_ang)\n",
    "    data_active = data1.load_outputs()\n",
    "    # Read variables into python\n",
    "\n",
    "    backscatter_vv.append(data_active['vvdb'][:,0]) # VV backscatters\n",
    "    backscatter_vh.append(data_active['vhdb'][:,0]) # VH backscatters\n",
    "theta_obs = angle # incident angle"
   ]
  },
  {
   "cell_type": "code",
   "execution_count": 17,
   "metadata": {},
   "outputs": [
    {
     "data": {
      "text/plain": [
       "<matplotlib.legend.Legend at 0x2b868532e400>"
      ]
     },
     "execution_count": 17,
     "metadata": {},
     "output_type": "execute_result"
    },
    {
     "data": {
      "image/png": "[encoded data removed]",
      "text/plain": [
       "<Figure size 432x288 with 1 Axes>"
      ]
     },
     "metadata": {
      "needs_background": "light"
     },
     "output_type": "display_data"
    }
   ],
   "source": [
    "import matplotlib.pyplot as plt\n",
    "\n",
    "# plot the data\n",
    "fig = plt.figure()\n",
    "ax = fig.add_subplot(1, 1, 1)\n",
    "ax.plot(theta_obs, TB_v, color='tab:blue')\n",
    "ax.plot(theta_obs, TB_h, color='tab:orange')\n",
    "ax.set(xlabel='Observation Angle $\\Theta(^\\circ)$', ylabel='Brightness Temperature $T_B(K)$')\n",
    "ax.legend(['V', 'H'])"
   ]
  },
  {
   "cell_type": "code",
   "execution_count": 18,
   "metadata": {},
   "outputs": [
    {
     "data": {
      "text/plain": [
       "<matplotlib.legend.Legend at 0x2b8685437e50>"
      ]
     },
     "execution_count": 18,
     "metadata": {},
     "output_type": "execute_result"
    },
    {
     "data": {
      "image/png": "[encoded data removed]",
      "text/plain": [
       "<Figure size 432x288 with 1 Axes>"
      ]
     },
     "metadata": {
      "needs_background": "light"
     },
     "output_type": "display_data"
    }
   ],
   "source": [
    "import matplotlib.pyplot as plt\n",
    "\n",
    "# plot the data\n",
    "fig = plt.figure()\n",
    "ax = fig.add_subplot(1, 1, 1)\n",
    "ax.plot(theta_obs, backscatter_vh, color='tab:blue')\n",
    "ax.plot(theta_obs, backscatter_vv, color='tab:orange')\n",
    "ax.set(xlabel='Observation Angle $\\Theta(^\\circ)$', ylabel='Backscatter (dB)')\n",
    "ax.legend(['VH', 'VV'])"
   ]
  },
  {
   "cell_type": "code",
   "execution_count": null,
   "metadata": {},
   "outputs": [],
   "source": []
  }
 ],
 "metadata": {
  "kernelspec": {
   "display_name": "Python 3",
   "language": "python",
   "name": "python3"
  },
  "language_info": {
   "codemirror_mode": {
    "name": "ipython",
    "version": 3
   },
   "file_extension": ".py",
   "mimetype": "text/x-python",
   "name": "python",
   "nbconvert_exporter": "python",
   "pygments_lexer": "ipython3",
   "version": "3.8.5"
  }
 },
 "nbformat": 4,
 "nbformat_minor": 2
}
