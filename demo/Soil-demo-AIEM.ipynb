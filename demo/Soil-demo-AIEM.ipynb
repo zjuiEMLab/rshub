{
  "cells": [
    {
      "cell_type": "markdown",
      "metadata": {
        "colab_type": "text",
        "id": "view-in-github"
      },
      "source": [
        "<a href=\"https://colab.research.google.com/github/zjuiEMLab/rshub/blob/main/demo/Soil-demo-AIEM.ipynb\" target=\"_parent\"><img src=\"https://colab.research.google.com/assets/colab-badge.svg\" alt=\"Open In Colab\"/></a>"
      ]
    },
    {
      "cell_type": "markdown",
      "metadata": {
        "id": "XL4kfhA6E-mP"
      },
      "source": [
        "# Active Soil demo"
      ]
    },
    {
      "cell_type": "code",
      "execution_count": null,
      "metadata": {
        "id": "bd04Roi1E-mR"
      },
      "outputs": [],
      "source": [
        "import datetime\n",
        "import copy\n",
        "!pip install rshub -q"
      ]
    },
    {
      "cell_type": "code",
      "execution_count": 1,
      "metadata": {
        "id": "e4GvAS5FKGbl"
      },
      "outputs": [],
      "source": [
        "# Define user token\n",
        "token = 'ENTER YOUR TOKEN HERE' # Register an account to get a token\n",
        "# Chang your task name or project name every time you run a new job\n",
        "project_name = 'Soil'\n",
        "task_name1 = 'AIEM'"
      ]
    },
    {
      "cell_type": "markdown",
      "metadata": {
        "id": "c7yQS3XVxRYK"
      },
      "source": [
        "### Step 1: Define Scenario flag"
      ]
    },
    {
      "cell_type": "code",
      "execution_count": 3,
      "metadata": {
        "id": "wfHiUzAEE-mS"
      },
      "outputs": [],
      "source": [
        "# ============== CHANGE YOUR INPUT PARAMETERS HERE ==============\n",
        "# ====== Parameters not define will be set to default values ======\n",
        "\n",
        "# 'soil: Bare soil\n",
        "# 'snow: Snow\n",
        "# 'veg: Vegetation covered soil\n",
        "scenario_flag = 'soil'"
      ]
    },
    {
      "cell_type": "markdown",
      "metadata": {
        "id": "7hkLsZ61xRYL"
      },
      "source": [
        "### Step 2: Define observation description"
      ]
    },
    {
      "cell_type": "code",
      "execution_count": 4,
      "metadata": {
        "id": "hdAj6WKNxRYL"
      },
      "outputs": [],
      "source": [
        "# 1) Observation mode\n",
        "# 'bs': Active (Backscatter)\n",
        "# 'tb': Passive (Brightness temperature)\n",
        "output_var = 'bs' # for soil model, both active and passive results will be outputed; Use this flag to retrieve results\n",
        "\n",
        "# 2) Observation characteristics\n",
        "fGHz = 1.26\n",
        "\n",
        "# 3) Observation angle\n",
        "angle = 40"
      ]
    },
    {
      "cell_type": "markdown",
      "metadata": {
        "id": "liAKAowHxRYM"
      },
      "source": [
        "### Step 3: Define Algorithm flag"
      ]
    },
    {
      "cell_type": "code",
      "execution_count": 5,
      "metadata": {
        "id": "1iD2I0gyxRYM"
      },
      "outputs": [],
      "source": [
        "# 1: VIE NMM3D\n",
        "algorithm = 'aiem'"
      ]
    },
    {
      "cell_type": "markdown",
      "metadata": {
        "id": "8tbdrhAvxRYN"
      },
      "source": [
        "### Step 4: Describe your scenario"
      ]
    },
    {
      "cell_type": "code",
      "execution_count": 6,
      "metadata": {
        "id": "MsYsQFkUxRYN"
      },
      "outputs": [],
      "source": [
        "#\n",
        "theta_i_deg = [10,20,30,40,50,60] #incident angle in degree.\n",
        "theta_s_deg = 3 # scattering angle in degree\n",
        "phi_s_deg = 12.2034 # scattering azimuth angle in deg while  incident azimuth angle is 0 degree\n",
        "phi_i_deg = 0 # incident azimuth angle\n",
        "kl = 0.2955 # normalized surface correlation length multiplies by wave number k.\n",
        "ks = 0.2955 # normalized surface rms height multiplies by wave number k\n",
        "perm_soil_r = 10.0257 # the real part of surface relative dielectric constant\n",
        "perm_soil_i = 1.1068 # the imaginary part of surface relative dielectric constant\n",
        "rough_type = 2 # 1 Gaussian; 2 exponential; 3 transformed exponential correlation (1.5-power)\n"
      ]
    },
    {
      "cell_type": "code",
      "execution_count": 7,
      "metadata": {
        "id": "5pi_g5hAE-mS"
      },
      "outputs": [],
      "source": [
        "data = {\n",
        "    'scenario_flag': scenario_flag,\n",
        "    'output_var': output_var,'fGHz': fGHz,\n",
        "    'algorithm':algorithm,\n",
        "    'angle': angle,\n",
        "    #'h': h,'Ts':Ts,'Tg':Tg,\n",
        "    #'epsr_ice_re':epsr_ice_re,'epsr_ice_im':epsr_ice_im,\n",
        "    'theta_i_deg':theta_i_deg,'theta_s_deg':theta_s_deg,'phi_s_deg':phi_s_deg,'phi_i_deg':phi_i_deg,'kl':kl,\n",
        "    'ks':ks,'perm_soil_r':perm_soil_r,'perm_soil_i':perm_soil_i,'rough_type':rough_type,\n",
        "    'project_name':project_name,\n",
        "    'task_name':task_name1,\n",
        "    'token': token,\n",
        "    'force_update_flag':1 # force replace existing task \n",
        "}"
      ]
    },
    {
      "cell_type": "markdown",
      "metadata": {
        "id": "FpyY814FE-mT"
      },
      "source": [
        "## Run models"
      ]
    },
    {
      "cell_type": "code",
      "execution_count": 9,
      "metadata": {
        "colab": {
          "base_uri": "https://localhost:8080/"
        },
        "id": "dfCg0pdFE-mT",
        "outputId": "a6fe1587-7a40-40a3-e523-257f8cf5589a",
        "scrolled": true
      },
      "outputs": [
        {
          "name": "stdout",
          "output_type": "stream",
          "text": [
            "{\"scenario_flag\": 1, \"output_var\": 1, \"fGHz\": 1.26, \"algorithm\": 1, \"angle\": 40, \"epsr_g_re\": 8.35, \"epsr_g_im\": 1.99, \"project_name\": \"Soil\", \"task_name\": \"Roughness1\", \"level_required\": 1}\n"
          ]
        }
      ],
      "source": [
        "from rshub import submit_jobs\n",
        "result=submit_jobs.run(data)"
      ]
    },
    {
      "cell_type": "code",
      "execution_count": 10,
      "metadata": {
        "colab": {
          "base_uri": "https://localhost:8080/"
        },
        "id": "YVSeLMgKxRYO",
        "outputId": "d0762109-51a1-43d0-8fad-94b5e2add01a"
      },
      "outputs": [
        {
          "name": "stdout",
          "output_type": "stream",
          "text": [
            "Job submitted!\n"
          ]
        }
      ],
      "source": [
        "print(result['result'])"
      ]
    },
    {
      "cell_type": "code",
      "execution_count": null,
      "metadata": {
        "id": "l1ZWw6olE-mT"
      },
      "outputs": [],
      "source": [
        "# Store log information\n",
        "now = datetime.datetime.now()\n",
        "logname = 'log_' + now.strftime(\"%Y%m%d%H%M%D\") + '.txt'\n",
        "f = open('log.txt',\"a\")\n",
        "head_string = '======' + now.strftime(\"%Y%m%d%H%M%D\") + '======' + \"\\n\"\n",
        "f.write(head_string)\n",
        "f.write(f' project_name = {project_name} \\n')\n",
        "f.write(f' task_name = {task_name1} \\n')\n",
        "f.write(f' data = {data} \\n')\n",
        "f.write('================================ \\n')\n",
        "f.close()"
      ]
    },
    {
      "cell_type": "markdown",
      "metadata": {
        "id": "bN8ne5hUxRYP"
      },
      "source": [
        "# Check Job Status (It will take over half an hour!)"
      ]
    },
    {
      "cell_type": "code",
      "execution_count": null,
      "metadata": {
        "id": "cTU2cU7cxRYP",
        "outputId": "6b26a2f3-9c5f-48fd-f860-157cf7baf142"
      },
      "outputs": [
        {
          "name": "stdout",
          "output_type": "stream",
          "text": [
            "Jobs are completed\n"
          ]
        }
      ],
      "source": [
        "from rshub import submit_jobs\n",
        "result=submit_jobs.check_completion(token, project_name, task_name1)\n",
        "print(result)"
      ]
    },
    {
      "cell_type": "code",
      "execution_count": null,
      "metadata": {
        "id": "Wlyrk6VWxRYP",
        "outputId": "256a4d52-e8a1-4269-f3a5-fcecd975d419"
      },
      "outputs": [
        {
          "name": "stdout",
          "output_type": "stream",
          "text": [
            "message: Jobs completed succesfully\n",
            "\n"
          ]
        }
      ],
      "source": [
        "from rshub.load_file import load_file\n",
        "\n",
        "data = load_file(token, project_name, task_name1 , fGHz)\n",
        "message = data.load_error_message()"
      ]
    },
    {
      "cell_type": "markdown",
      "metadata": {
        "id": "XuFz3psuE-mT"
      },
      "source": [
        "# Post Process"
      ]
    },
    {
      "cell_type": "code",
      "execution_count": null,
      "metadata": {
        "id": "cerjgbFQE-mU"
      },
      "outputs": [],
      "source": [
        "from rshub.load_file import load_file"
      ]
    },
    {
      "cell_type": "markdown",
      "metadata": {
        "id": "JiLCdDlgxRYP"
      },
      "source": [
        "## Active"
      ]
    },
    {
      "cell_type": "code",
      "execution_count": null,
      "metadata": {
        "id": "Av82rtKQE-mU"
      },
      "outputs": [],
      "source": [
        "# load mat file with project id, frequencies,variables to load\n",
        "output_var = 'bs'\n",
        "data = load_file(token, project_name, task_name1 , fGHz, scenario_flag,output_var, angle)\n",
        "\n",
        "data_active = data.load_outputs()"
      ]
    },
    {
      "cell_type": "code",
      "execution_count": null,
      "metadata": {
        "id": "rOkWQTG_xRYP",
        "outputId": "882665e7-4d03-4f24-f3f7-bb752eed6510"
      },
      "outputs": [
        {
          "name": "stdout",
          "output_type": "stream",
          "text": [
            "Backscatter at 180 degree and incident angle 40\n",
            "VV:-16.648157661991277, HV:-37.079865117530034, VH:-37.080390503369756, HH:-19.996973232557117\n"
          ]
        }
      ],
      "source": [
        "# Backscatter in order of VV, HV, VH, HH\n",
        "HH = data_active['HH']\n",
        "VV = data_active['VV']\n",
        "HV = data_active['HV']\n",
        "VH = data_active['VH']\n",
        "\n",
        "print(f\"VV:{VV} dB, HV:{HV} dB, VH:{VH} dB, HH:{HH} dB\")"
      ]
    }
  ],
  "metadata": {
    "colab": {
      "provenance": []
    },
    "kernelspec": {
      "display_name": "Python 3",
      "language": "python",
      "name": "python3"
    },
    "language_info": {
      "codemirror_mode": {
        "name": "ipython",
        "version": 3
      },
      "file_extension": ".py",
      "mimetype": "text/x-python",
      "name": "python",
      "nbconvert_exporter": "python",
      "pygments_lexer": "ipython3",
      "version": "3.8.5"
    }
  },
  "nbformat": 4,
  "nbformat_minor": 0
}
