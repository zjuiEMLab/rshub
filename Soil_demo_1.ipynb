{
  "cells": [
    {
      "cell_type": "markdown",
      "metadata": {
       "colab_type": "text",
       "id": "view-in-github"
      },
      "source": [
       "<a href=\"https://colab.research.google.com/github/zjuiEMLab/rshub/blob/main/demo/Soil-demo-1.ipynb\" target=\"_parent\"><img src=\"https://colab.research.google.com/assets/colab-badge.svg\" alt=\"Open In Colab\"/></a>"
      ]
     },
    {
      "cell_type": "markdown",
      "metadata": {
        "id": "XL4kfhA6E-mP"
      },
      "source": [
        "# Active Soil demo"
      ]
    },
    {
      "cell_type": "code",
      "execution_count": 2,
      "metadata": {
        "id": "bd04Roi1E-mR"
      },
      "outputs": [],
      "source": [
        "import datetime\n",
        "import copy\n",
        "!pip install rshub -q"
      ]
    },
    {
      "cell_type": "code",
      "execution_count": 1,
      "metadata": {
        "id": "e4GvAS5FKGbl"
      },
      "outputs": [],
      "source": [
        "# Define user token\n",
        "token = 'ENTER YOUR TOKEN HERE' # Register an account to get a token\n",
        "# Chang your task name or project name every time you run a new job\n",
        "project_name = 'Soil'\n",
        "task_name1 = 'Roughness1'"
      ]
    },
    {
      "cell_type": "markdown",
      "metadata": {
        "id": "c7yQS3XVxRYK"
      },
      "source": [
        "### Step 1: Define Scenario flag"
      ]
    },
    {
      "cell_type": "code",
      "execution_count": 3,
      "metadata": {
        "id": "wfHiUzAEE-mS"
      },
      "outputs": [],
      "source": [
        "# ============== CHANGE YOUR INPUT PARAMETERS HERE ==============\n",
        "# ====== Parameters not define will be set to default values ======\n",
        "\n",
        "# 1: Bare soil\n",
        "# 2: Snow\n",
        "# 3: Vegetation covered soil\n",
        "scenario_flag = 1"
      ]
    },
    {
      "cell_type": "markdown",
      "metadata": {
        "id": "7hkLsZ61xRYL"
      },
      "source": [
        "### Step 2: Define observation description"
      ]
    },
    {
      "cell_type": "code",
      "execution_count": 4,
      "metadata": {
        "id": "hdAj6WKNxRYL"
      },
      "outputs": [],
      "source": [
        "# 1) Observation mode\n",
        "# 1: Active (Backscatter)\n",
        "# 2: Passive (Brightness temperature)\n",
        "output_var = 1 # for soil model, both active and passive results will be outputed; Use this flag to retrieve results\n",
        "\n",
        "# 2) Observation characteristics\n",
        "fGHz = 1.26\n",
        "\n",
        "# 3) Observation angle\n",
        "angle = 40"
      ]
    },
    {
      "cell_type": "markdown",
      "metadata": {
        "id": "liAKAowHxRYM"
      },
      "source": [
        "### Step 3: Define Algorithm flag"
      ]
    },
    {
      "cell_type": "code",
      "execution_count": 5,
      "metadata": {
        "id": "1iD2I0gyxRYM"
      },
      "outputs": [],
      "source": [
        "# 1: VIE NMM3D\n",
        "algorithm = 1"
      ]
    },
    {
      "cell_type": "markdown",
      "metadata": {
        "id": "8tbdrhAvxRYN"
      },
      "source": [
        "### Step 4: Describe your scenario"
      ]
    },
    {
      "cell_type": "code",
      "execution_count": 6,
      "metadata": {
        "id": "MsYsQFkUxRYN"
      },
      "outputs": [],
      "source": [
        "# rough surface geometry parameters\n",
        "h = 0.00168 # RMS height of the soil roughness [m]\n",
        "\n",
        "# physical temperatures\n",
        "#Ts = 300.75 # top soillayer temperature [K]\n",
        "#Tg = 295.15 # ground temperature [K]\n",
        "\n",
        "# dielectric constants\n",
        "#epsr_ice_re = 4.024 # Real part of top layer medium permittivity\n",
        "#epsr_ice_im = 0.3 # Imaginary part of top layer medium permittivity\n",
        "epsr_g_re = 8.35 # Real part of Substrate layer medium permittivity\n",
        "epsr_g_im = 1.99 # Imaginary part of Substrate layer medium permittivity"
      ]
    },
    {
      "cell_type": "code",
      "execution_count": 7,
      "metadata": {
        "id": "5pi_g5hAE-mS"
      },
      "outputs": [],
      "source": [
        "data = {\n",
        "    'scenario_flag': scenario_flag,\n",
        "    'output_var': output_var,'fGHz': fGHz,\n",
        "    'algorithm':algorithm,\n",
        "    'angle': angle,\n",
        "    #'h': h,'Ts':Ts,'Tg':Tg,\n",
        "    #'epsr_ice_re':epsr_ice_re,'epsr_ice_im':epsr_ice_im,\n",
        "    'epsr_g_re':epsr_g_re,'epsr_g_im':epsr_g_im,\n",
        "    'project_name':project_name,\n",
        "    'task_name':task_name1,\n",
        "    'token': token,\n",
        "    'level_required':1\n",
        "}"
      ]
    },
    {
      "cell_type": "markdown",
      "metadata": {
        "id": "FpyY814FE-mT"
      },
      "source": [
        "## Run models"
      ]
    },
    {
      "cell_type": "code",
      "execution_count": 9,
      "metadata": {
        "colab": {
          "base_uri": "https://localhost:8080/"
        },
        "id": "dfCg0pdFE-mT",
        "outputId": "a6fe1587-7a40-40a3-e523-257f8cf5589a",
        "scrolled": true
      },
      "outputs": [
        {
          "name": "stdout",
          "output_type": "stream",
          "text": [
            "{\"scenario_flag\": 1, \"output_var\": 1, \"fGHz\": 1.26, \"algorithm\": 1, \"angle\": 40, \"epsr_g_re\": 8.35, \"epsr_g_im\": 1.99, \"project_name\": \"Soil\", \"task_name\": \"Roughness1\", \"level_required\": 1}\n"
          ]
        }
      ],
      "source": [
        "from rshub import submit_jobs\n",
        "result=submit_jobs.run(data)"
      ]
    },
    {
      "cell_type": "code",
      "execution_count": 10,
      "metadata": {
        "colab": {
          "base_uri": "https://localhost:8080/"
        },
        "id": "YVSeLMgKxRYO",
        "outputId": "d0762109-51a1-43d0-8fad-94b5e2add01a"
      },
      "outputs": [
        {
          "name": "stdout",
          "output_type": "stream",
          "text": [
            "Job submitted!\n"
          ]
        }
      ],
      "source": [
        "print(result['result'])"
      ]
    },
    {
      "cell_type": "code",
      "execution_count": null,
      "metadata": {
        "id": "l1ZWw6olE-mT"
      },
      "outputs": [],
      "source": [
        "# Store log information\n",
        "now = datetime.datetime.now()\n",
        "logname = 'log_' + now.strftime(\"%Y%m%d%H%M%D\") + '.txt'\n",
        "f = open('log.txt',\"a\")\n",
        "head_string = '======' + now.strftime(\"%Y%m%d%H%M%D\") + '======' + \"\\n\"\n",
        "f.write(head_string)\n",
        "f.write(f' project_name = {project_name} \\n')\n",
        "f.write(f' task_name = {task_name1} \\n')\n",
        "f.write(f' data = {data} \\n')\n",
        "f.write('================================ \\n')\n",
        "f.close()"
      ]
    },
    {
      "cell_type": "markdown",
      "metadata": {
        "id": "bN8ne5hUxRYP"
      },
      "source": [
        "# Check Job Status (It will take over half an hour!)"
      ]
    },
    {
      "cell_type": "code",
      "execution_count": null,
      "metadata": {
        "id": "cTU2cU7cxRYP",
        "outputId": "6b26a2f3-9c5f-48fd-f860-157cf7baf142"
      },
      "outputs": [
        {
          "name": "stdout",
          "output_type": "stream",
          "text": [
            "Jobs are completed\n"
          ]
        }
      ],
      "source": [
        "from rshub import submit_jobs\n",
        "result=submit_jobs.check_completion(token, project_name, task_name1)\n",
        "print(result)"
      ]
    },
    {
      "cell_type": "code",
      "execution_count": null,
      "metadata": {
        "id": "Wlyrk6VWxRYP",
        "outputId": "256a4d52-e8a1-4269-f3a5-fcecd975d419"
      },
      "outputs": [
        {
          "name": "stdout",
          "output_type": "stream",
          "text": [
            "message: Jobs completed succesfully\n",
            "\n"
          ]
        }
      ],
      "source": [
        "from rshub.load_file import load_file\n",
        "\n",
        "data = load_file(token, project_name, task_name1 , fGHz)\n",
        "message = data.load_error_message()"
      ]
    },
    {
      "cell_type": "markdown",
      "metadata": {
        "id": "XuFz3psuE-mT"
      },
      "source": [
        "# Post Process"
      ]
    },
    {
      "cell_type": "code",
      "execution_count": null,
      "metadata": {
        "id": "cerjgbFQE-mU"
      },
      "outputs": [],
      "source": [
        "from rshub.load_file import load_file"
      ]
    },
    {
      "cell_type": "markdown",
      "metadata": {
        "id": "JiLCdDlgxRYP"
      },
      "source": [
        "## Active"
      ]
    },
    {
      "cell_type": "code",
      "execution_count": null,
      "metadata": {
        "id": "Av82rtKQE-mU"
      },
      "outputs": [],
      "source": [
        "# load mat file with project id, frequencies,variables to load\n",
        "output_var = 1\n",
        "data = load_file(token, project_name, task_name1 , fGHz, scenario_flag,output_var, angle)\n",
        "\n",
        "data_active = data.load_outputs()"
      ]
    },
    {
      "cell_type": "code",
      "execution_count": null,
      "metadata": {
        "id": "e5W8OKkcxRYP",
        "outputId": "f16cc7de-c493-4281-ee9c-483e2487fc85"
      },
      "outputs": [
        {
          "name": "stdout",
          "output_type": "stream",
          "text": [
            "{\"backscatter\":\"Backscatter at polar angle 180 degree and incident angle 40 in order of VV, HV, VH, HH\",\"thetas\":\"Azimuth angles\",\"phis\":\"Polar angles\",\"g_coh\":\"Coherent bistatic scattering coefficient in dB\",\"g_inc\":\"Incoherent bistatic scattering coefficient in dB\",\"g_tot\":\"Total bistatic scattering coefficient in dB\"}\n"
          ]
        }
      ],
      "source": [
        "import numpy as np\n",
        "# Information of the stored variables\n",
        "info = data_active['info_json'][0]\n",
        "print(info)"
      ]
    },
    {
      "cell_type": "code",
      "execution_count": null,
      "metadata": {
        "id": "rOkWQTG_xRYP",
        "outputId": "882665e7-4d03-4f24-f3f7-bb752eed6510"
      },
      "outputs": [
        {
          "name": "stdout",
          "output_type": "stream",
          "text": [
            "Backscatter at 180 degree and incident angle 40\n",
            "VV:-16.648157661991277, HV:-37.079865117530034, VH:-37.080390503369756, HH:-19.996973232557117\n"
          ]
        }
      ],
      "source": [
        "# Backscatter in order of VV, HV, VH, HH\n",
        "BS = data_active['backscatter']\n",
        "print(f'Backscatter at 180 degree and incident angle {angle}')\n",
        "print(f\"VV:{BS[0][0]} dB, HV:{BS[0][1]} dB, VH:{BS[0][2]} dB, HH:{BS[0][3]} dB\")"
      ]
    },
    {
      "cell_type": "code",
      "execution_count": null,
      "metadata": {
        "id": "XW59yJcGxRYQ"
      },
      "outputs": [],
      "source": [
        "phis = data_active['phis'] # polar angles\n",
        "bis =  data_active['g_tot'] # total bistatic coefficient\n",
        "thetas = data_active['thetas'] # azimuth angle\n",
        "f180deg = np.where(phis == 180)[0]\n",
        "f0deg = np.where(phis == 0)[0]"
      ]
    },
    {
      "cell_type": "code",
      "execution_count": null,
      "metadata": {
        "id": "V6BRnZO_xRYQ",
        "scrolled": true
      },
      "outputs": [],
      "source": [
        "# Combine arrays with reversed first part\n",
        "bis_180_0_VV = np.vstack((bis[::-1, f180deg, 0], bis[:, f0deg, 0]))\n",
        "bis_180_0_HV = np.vstack((bis[::-1, f180deg, 1], bis[:, f0deg, 1]))\n",
        "bis_180_0_VH = np.vstack((bis[::-1, f180deg, 2], bis[:, f0deg, 2]))\n",
        "bis_180_0_HH = np.vstack((bis[::-1, f180deg, 3], bis[:, f0deg, 3]))\n",
        "bis_180_0_VV=bis_180_0_VV.flatten()\n",
        "bis_180_0_HV=bis_180_0_HV.flatten()\n",
        "bis_180_0_VH=bis_180_0_VH.flatten()\n",
        "bis_180_0_HH=bis_180_0_HH.flatten()"
      ]
    },
    {
      "cell_type": "code",
      "execution_count": null,
      "metadata": {
        "id": "fCuK0_xWxRYQ"
      },
      "outputs": [],
      "source": [
        "# combine thetas\n",
        "thetas_merge = np.vstack((-thetas[::-1], thetas))\n",
        "thetas_merge=thetas_merge.flatten()"
      ]
    },
    {
      "cell_type": "code",
      "execution_count": null,
      "metadata": {
        "id": "lMJL56B0xRYQ"
      },
      "outputs": [],
      "source": [
        "valid_indices = ~np.isnan(bis_180_0_VV)"
      ]
    },
    {
      "cell_type": "code",
      "execution_count": null,
      "metadata": {
        "colab": {
          "base_uri": "https://localhost:8080/",
          "height": 470
        },
        "id": "6zk7uQRUE-mU",
        "outputId": "33601c60-bddb-40a3-eac6-a93e96efc176"
      },
      "outputs": [
        {
          "data": {
            "text/plain": [
              "(array([-40., -30., -20., -10.,   0.,  10.,  20.,  30.]),\n",
              " [Text(0, 0, ''),\n",
              "  Text(0, 0, ''),\n",
              "  Text(0, 0, ''),\n",
              "  Text(0, 0, ''),\n",
              "  Text(0, 0, ''),\n",
              "  Text(0, 0, ''),\n",
              "  Text(0, 0, ''),\n",
              "  Text(0, 0, '')])"
            ]
          },
          "execution_count": 65,
          "metadata": {},
          "output_type": "execute_result"
        },
        {
          "data": {
            "image/png": "[encoded data removed]",
            "text/plain": [
              "<Figure size 1080x720 with 4 Axes>"
            ]
          },
          "metadata": {
            "needs_background": "light"
          },
          "output_type": "display_data"
        }
      ],
      "source": [
        "import matplotlib.pyplot as plt\n",
        "\n",
        "# plot the data\n",
        "fig = plt.figure(figsize=(15, 10))\n",
        "ax = fig.add_subplot(2, 2, 1)\n",
        "ax.plot(thetas_merge[valid_indices], bis_180_0_VV[valid_indices], color='tab:blue',linestyle='dotted')\n",
        "ax.set_xlabel('Observation Angle $\\Theta(^\\circ)$', fontsize = 20)\n",
        "ax.set_ylabel('Bistatic VV (dB)', fontsize = 20)\n",
        "plt.xticks(fontsize = 15)\n",
        "plt.yticks(fontsize = 15)\n",
        "\n",
        "ax = fig.add_subplot(2, 2, 2)\n",
        "ax.plot(thetas_merge[valid_indices], bis_180_0_HV[valid_indices], color='tab:blue',linestyle='dotted')\n",
        "ax.set_xlabel('Observation Angle $\\Theta(^\\circ)$', fontsize = 20)\n",
        "ax.set_ylabel('Bistatic HV (dB)$', fontsize = 20)\n",
        "plt.xticks(fontsize = 15)\n",
        "plt.yticks(fontsize = 15)\n",
        "\n",
        "ax = fig.add_subplot(2, 2, 3)\n",
        "ax.plot(thetas_merge[valid_indices], bis_180_0_VH[valid_indices], color='tab:blue',linestyle='dotted')\n",
        "ax.set_xlabel('Observation Angle $\\Theta(^\\circ)$', fontsize = 20)\n",
        "ax.set_ylabel('Bistatic VH (dB)$', fontsize = 20)\n",
        "plt.xticks(fontsize = 15)\n",
        "plt.yticks(fontsize = 15)\n",
        "\n",
        "ax = fig.add_subplot(2, 2, 4)\n",
        "ax.plot(thetas_merge[valid_indices], bis_180_0_HH[valid_indices], color='tab:blue',linestyle='dotted')\n",
        "ax.set_xlabel('Observation Angle $\\Theta(^\\circ)$', fontsize = 20)\n",
        "ax.set_ylabel('Bistatic HH (dB)', fontsize = 20)\n",
        "plt.xticks(fontsize = 15)\n",
        "plt.yticks(fontsize = 15)"
      ]
    },
    {
      "cell_type": "markdown",
      "metadata": {
        "id": "ZyXmea2ME-mU"
      },
      "source": [
        "## Passive"
      ]
    },
    {
      "cell_type": "code",
      "execution_count": null,
      "metadata": {
        "id": "mqY49ff4xRYR"
      },
      "outputs": [],
      "source": [
        "# load mat file with project id, frequencies,variables to load\n",
        "output_var = 2\n",
        "data = load_file(token, project_name, task_name1 , fGHz, scenario_flag,output_var, angle)\n",
        "\n",
        "data_passive = data.load_outputs()"
      ]
    },
    {
      "cell_type": "code",
      "execution_count": null,
      "metadata": {
        "id": "RRodea1YxRYR",
        "outputId": "b1326ed3-2e07-4767-df31-be7b2274aa42"
      },
      "outputs": [
        {
          "name": "stdout",
          "output_type": "stream",
          "text": [
            "{\"Tb\":\"Brightness temperature in K at fGHz1.26_ob_angle40\"}\n"
          ]
        }
      ],
      "source": [
        "info = data_passive['info_json'][0]\n",
        "print(info)"
      ]
    },
    {
      "cell_type": "code",
      "execution_count": null,
      "metadata": {
        "id": "VMdSgOy_xRYR",
        "outputId": "66ee2922-4bae-487c-cc0f-224f7691f54a"
      },
      "outputs": [
        {
          "name": "stdout",
          "output_type": "stream",
          "text": [
            "Brightness temperature at incident angle 40\n",
            "V:263.39753333333334 K, H:221.24112666666664 K\n"
          ]
        }
      ],
      "source": [
        "Tb = data_passive['Tb'] #V, H\n",
        "print(f'Brightness temperature at incident angle {angle}')\n",
        "print(f\"V:{Tb[0][0]} K, H:{Tb[1][0]} K\")"
      ]
    },
    {
      "cell_type": "code",
      "execution_count": null,
      "metadata": {
        "id": "fmNhPoW0xRYR"
      },
      "outputs": [],
      "source": []
    }
  ],
  "metadata": {
    "colab": {
      "provenance": []
    },
    "kernelspec": {
      "display_name": "Python 3",
      "language": "python",
      "name": "python3"
    },
    "language_info": {
      "codemirror_mode": {
        "name": "ipython",
        "version": 3
      },
      "file_extension": ".py",
      "mimetype": "text/x-python",
      "name": "python",
      "nbconvert_exporter": "python",
      "pygments_lexer": "ipython3",
      "version": "3.8.5"
    }
  },
  "nbformat": 4,
  "nbformat_minor": 0
}
